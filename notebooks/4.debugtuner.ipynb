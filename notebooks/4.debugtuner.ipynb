{
 "cells": [
  {
   "cell_type": "code",
   "execution_count": 1,
   "id": "1d8d7eeb",
   "metadata": {},
   "outputs": [
    {
     "name": "stderr",
     "output_type": "stream",
     "text": [
      "d:\\IITG\\other courses\\Manopriyam\\nlp-lab-env\\Lib\\site-packages\\tqdm\\auto.py:21: TqdmWarning: IProgress not found. Please update jupyter and ipywidgets. See https://ipywidgets.readthedocs.io/en/stable/user_install.html\n",
      "  from .autonotebook import tqdm as notebook_tqdm\n"
     ]
    },
    {
     "name": "stdout",
     "output_type": "stream",
     "text": [
      "Imports complete. Setup ready.\n"
     ]
    }
   ],
   "source": [
    "# Cell 1: Imports and Setup (No Changes)\n",
    "import os\n",
    "import numpy as np\n",
    "import pandas as pd\n",
    "import torch\n",
    "import evaluate\n",
    "import demoji\n",
    "from datasets import Dataset\n",
    "from sklearn.model_selection import train_test_split\n",
    "from sklearn.utils.class_weight import compute_class_weight\n",
    "from transformers import (\n",
    "    AutoTokenizer,\n",
    "    AutoModelForSequenceClassification,\n",
    "    TrainingArguments,\n",
    "    Trainer,\n",
    "    EarlyStoppingCallback,\n",
    "    AdamW,\n",
    "    get_scheduler\n",
    ")\n",
    "\n",
    "print(\"Imports complete. Setup ready.\")"
   ]
  },
  {
   "cell_type": "code",
   "execution_count": 4,
   "id": "f0d4c8a8",
   "metadata": {},
   "outputs": [
    {
     "name": "stdout",
     "output_type": "stream",
     "text": [
      "Configuration loaded.\n"
     ]
    }
   ],
   "source": [
    "# Cell 2: Configuration (No Changes)\n",
    "MODEL_CHECKPOINT = \"cardiffnlp/twitter-roberta-base-emotion\"\n",
    "FRIENDS_DATA_PATH = '../data/data1.xlsx'\n",
    "KAGGLE_DATA_PATHS = ['../data/data2.xlsx', '../data/data3.xlsx']\n",
    "TRAINING_PARAMS = {\n",
    "    \"evaluation_strategy\": \"epoch\",\n",
    "    \"save_strategy\": \"epoch\",\n",
    "    \"per_device_train_batch_size\": 16,\n",
    "    \"num_train_epochs\": 8,\n",
    "    \"weight_decay\": 0.01,\n",
    "    \"load_best_model_at_end\": True,\n",
    "    \"metric_for_best_model\": \"f1\",\n",
    "    \"save_total_limit\": 1,\n",
    "    \"seed\": 42,\n",
    "}\n",
    "RUN_NAME = \"controlled_run_no_augmentation\"\n",
    "print(\"Configuration loaded.\")"
   ]
  },
  {
   "cell_type": "code",
   "execution_count": 5,
   "id": "9a85b979",
   "metadata": {},
   "outputs": [
    {
     "name": "stdout",
     "output_type": "stream",
     "text": [
      "--- STEP 1: Preparing Datasets from Excel Files ---\n",
      "Train set size: 2509\n",
      "Validation set size: 279\n",
      "Sacred Test set (friends only): 200\n"
     ]
    }
   ],
   "source": [
    "# Cell 3: Data Loading, Cleaning, and Splitting (No Changes)\n",
    "print(\"--- STEP 1: Preparing Datasets from Excel Files ---\")\n",
    "df_friends = pd.read_excel(FRIENDS_DATA_PATH)\n",
    "df_kaggle_list = [pd.read_excel(p) for p in KAGGLE_DATA_PATHS]\n",
    "df_kaggle = pd.concat(df_kaggle_list, ignore_index=True)\n",
    "df_friends.columns = [col.strip().lower() for col in df_friends.columns]\n",
    "df_kaggle.columns = [col.strip().lower() for col in df_kaggle.columns]\n",
    "if 'entry' in df_friends.columns:\n",
    "    df_friends.rename(columns={'entry': 'text'}, inplace=True)\n",
    "if 'entry' in df_kaggle.columns:\n",
    "    df_kaggle.rename(columns={'entry': 'text'}, inplace=True)\n",
    "df_friends.dropna(subset=['text', 'emotion'], inplace=True)\n",
    "df_kaggle.dropna(subset=['text', 'emotion'], inplace=True)\n",
    "df_friends.drop_duplicates(subset=['text'], inplace=True)\n",
    "df_kaggle.drop_duplicates(subset=['text'], inplace=True)\n",
    "test_df = df_friends.sample(frac=0.2, random_state=42)\n",
    "train_pool_df = pd.concat([df_friends.drop(test_df.index), df_kaggle], ignore_index=True)\n",
    "train_df, val_df = train_test_split(train_pool_df, test_size=0.1, random_state=42, stratify=train_pool_df['emotion'])\n",
    "print(f\"Train set size: {len(train_df)}\")\n",
    "print(f\"Validation set size: {len(val_df)}\")\n",
    "print(f\"Sacred Test set (friends only): {len(test_df)}\")"
   ]
  },
  {
   "cell_type": "code",
   "execution_count": 6,
   "id": "f381ff63",
   "metadata": {},
   "outputs": [
    {
     "name": "stdout",
     "output_type": "stream",
     "text": [
      "\n",
      "--- STEP 2: Converting to Datasets (No Augmentation) ---\n",
      "Conversion to Datasets complete.\n"
     ]
    }
   ],
   "source": [
    "# Cell 4: Convert to Datasets (AUGMENTATION IS REMOVED)\n",
    "print(\"\\n--- STEP 2: Converting to Datasets (No Augmentation) ---\")\n",
    "\n",
    "# We are NOT augmenting the data in this run. We use the original train_df.\n",
    "train_ds = Dataset.from_pandas(train_df)\n",
    "val_ds = Dataset.from_pandas(val_df)\n",
    "test_ds = Dataset.from_pandas(test_df)\n",
    "\n",
    "print(\"Conversion to Datasets complete.\")"
   ]
  },
  {
   "cell_type": "code",
   "execution_count": 7,
   "id": "dcc7f078",
   "metadata": {},
   "outputs": [
    {
     "name": "stderr",
     "output_type": "stream",
     "text": [
      "C:\\Users\\das99\\AppData\\Local\\Temp\\ipykernel_12644\\1391081583.py:3: FutureWarning: The demoji.download_codes attribute is deprecated and will be removed from demoji in a future version. It is an unused attribute as emoji codes are now distributed directly with the demoji package.\n",
      "  demoji.download_codes()\n"
     ]
    },
    {
     "name": "stdout",
     "output_type": "stream",
     "text": [
      "\n",
      "--- STEP 3: Final Preprocessing and Setup ---\n"
     ]
    },
    {
     "name": "stderr",
     "output_type": "stream",
     "text": [
      "Map: 100%|██████████| 2509/2509 [00:01<00:00, 2293.11 examples/s]\n",
      "Map: 100%|██████████| 279/279 [00:00<00:00, 2410.56 examples/s]\n",
      "Map: 100%|██████████| 200/200 [00:00<00:00, 1846.72 examples/s]\n"
     ]
    },
    {
     "name": "stdout",
     "output_type": "stream",
     "text": [
      "Setup complete. Ready for training.\n"
     ]
    }
   ],
   "source": [
    "# Cell 5: Final Preprocessing and Setup (No Changes)\n",
    "print(\"\\n--- STEP 3: Final Preprocessing and Setup ---\")\n",
    "demoji.download_codes()\n",
    "def preprocess_text_and_labels(batch):\n",
    "    batch['text'] = [demoji.replace_with_desc(str(text), sep=\" \") for text in batch['text']]\n",
    "    batch['label'] = [label2id[label] for label in batch['emotion']]\n",
    "    return batch\n",
    "unique_labels = train_df['emotion'].unique()\n",
    "label2id = {label: i for i, label in enumerate(unique_labels)}\n",
    "id2label = {i: label for i, label in enumerate(unique_labels)}\n",
    "num_labels = len(unique_labels)\n",
    "train_ds = train_ds.map(preprocess_text_and_labels, batched=True)\n",
    "val_ds = val_ds.map(preprocess_text_and_labels, batched=True)\n",
    "test_ds = test_ds.map(preprocess_text_and_labels, batched=True)\n",
    "class_weights = compute_class_weight('balanced', classes=np.array(list(label2id.keys())), y=train_df['emotion'])\n",
    "class_weights_tensor = torch.tensor(class_weights, dtype=torch.float).to(\"cuda\")\n",
    "class CustomTrainer(Trainer):\n",
    "    def compute_loss(self, model, inputs, return_outputs=False):\n",
    "        labels = inputs.pop(\"labels\")\n",
    "        outputs = model(**inputs)\n",
    "        logits = outputs.get(\"logits\")\n",
    "        loss_fct = torch.nn.CrossEntropyLoss(weight=class_weights_tensor)\n",
    "        loss = loss_fct(logits.view(-1, self.model.config.num_labels), labels.view(-1))\n",
    "        return (loss, outputs) if return_outputs else loss\n",
    "metric = evaluate.load(\"f1\")\n",
    "def compute_metrics(eval_pred):\n",
    "    logits, labels = eval_pred\n",
    "    preds = np.argmax(logits, axis=-1)\n",
    "    return metric.compute(predictions=preds, references=labels, average=\"weighted\")\n",
    "print(\"Setup complete. Ready for training.\")"
   ]
  },
  {
   "cell_type": "code",
   "execution_count": 8,
   "id": "a8c0fcca",
   "metadata": {},
   "outputs": [
    {
     "name": "stdout",
     "output_type": "stream",
     "text": [
      "\n",
      "==================================================\n",
      "STARTING CONTROLLED RUN: controlled_run_no_augmentation\n",
      "==================================================\n",
      "\n"
     ]
    },
    {
     "name": "stderr",
     "output_type": "stream",
     "text": [
      "d:\\IITG\\other courses\\Manopriyam\\nlp-lab-env\\Lib\\site-packages\\huggingface_hub\\file_download.py:945: FutureWarning: `resume_download` is deprecated and will be removed in version 1.0.0. Downloads always resume when possible. If you want to force a new download, use `force_download=True`.\n",
      "  warnings.warn(\n",
      "Map: 100%|██████████| 2509/2509 [00:00<00:00, 10182.35 examples/s]\n",
      "Map: 100%|██████████| 279/279 [00:00<00:00, 19644.63 examples/s]\n",
      "Map: 100%|██████████| 200/200 [00:00<00:00, 16540.68 examples/s]\n",
      "Some weights of RobertaForSequenceClassification were not initialized from the model checkpoint at cardiffnlp/twitter-roberta-base-emotion and are newly initialized because the shapes did not match:\n",
      "- classifier.out_proj.weight: found shape torch.Size([4, 768]) in the checkpoint and torch.Size([6, 768]) in the model instantiated\n",
      "- classifier.out_proj.bias: found shape torch.Size([4]) in the checkpoint and torch.Size([6]) in the model instantiated\n",
      "You should probably TRAIN this model on a down-stream task to be able to use it for predictions and inference.\n",
      "d:\\IITG\\other courses\\Manopriyam\\nlp-lab-env\\Lib\\site-packages\\transformers\\optimization.py:588: FutureWarning: This implementation of AdamW is deprecated and will be removed in a future version. Use the PyTorch implementation torch.optim.AdamW instead, or set `no_deprecation_warning=True` to disable this warning\n",
      "  warnings.warn(\n",
      "d:\\IITG\\other courses\\Manopriyam\\nlp-lab-env\\Lib\\site-packages\\transformers\\training_args.py:1474: FutureWarning: `evaluation_strategy` is deprecated and will be removed in version 4.46 of 🤗 Transformers. Use `eval_strategy` instead\n",
      "  warnings.warn(\n",
      "                                                  \n",
      " 12%|█▎        | 157/1256 [02:12<14:08,  1.29it/s]"
     ]
    },
    {
     "name": "stdout",
     "output_type": "stream",
     "text": [
      "{'eval_loss': 1.316928744316101, 'eval_f1': 0.5470190852510645, 'eval_runtime': 1.2646, 'eval_samples_per_second': 220.624, 'eval_steps_per_second': 27.677, 'epoch': 1.0}\n"
     ]
    },
    {
     "name": "stderr",
     "output_type": "stream",
     "text": [
      "                                                  \n",
      " 25%|██▌       | 314/1256 [05:24<19:36,  1.25s/it]"
     ]
    },
    {
     "name": "stdout",
     "output_type": "stream",
     "text": [
      "{'eval_loss': 1.212338924407959, 'eval_f1': 0.5924467254331978, 'eval_runtime': 2.8969, 'eval_samples_per_second': 96.309, 'eval_steps_per_second': 12.082, 'epoch': 2.0}\n"
     ]
    },
    {
     "name": "stderr",
     "output_type": "stream",
     "text": [
      "                                                    \n",
      " 38%|███▊      | 471/1256 [08:55<15:25,  1.18s/it]"
     ]
    },
    {
     "name": "stdout",
     "output_type": "stream",
     "text": [
      "{'eval_loss': 1.1269726753234863, 'eval_f1': 0.6098513399744158, 'eval_runtime': 1.7276, 'eval_samples_per_second': 161.494, 'eval_steps_per_second': 20.259, 'epoch': 3.0}\n"
     ]
    },
    {
     "name": "stderr",
     "output_type": "stream",
     "text": [
      " 40%|███▉      | 500/1256 [09:41<16:57,  1.35s/it]"
     ]
    },
    {
     "name": "stdout",
     "output_type": "stream",
     "text": [
      "{'loss': 1.2667, 'grad_norm': 21.793153762817383, 'learning_rate': 1.2038216560509554e-06, 'epoch': 3.18}\n"
     ]
    },
    {
     "name": "stderr",
     "output_type": "stream",
     "text": [
      "                                                  \n",
      " 50%|█████     | 628/1256 [12:18<14:48,  1.42s/it]"
     ]
    },
    {
     "name": "stdout",
     "output_type": "stream",
     "text": [
      "{'eval_loss': 1.0786001682281494, 'eval_f1': 0.61896156601311, 'eval_runtime': 4.2663, 'eval_samples_per_second': 65.396, 'eval_steps_per_second': 8.204, 'epoch': 4.0}\n"
     ]
    },
    {
     "name": "stderr",
     "output_type": "stream",
     "text": [
      "                                                  \n",
      " 62%|██████▎   | 785/1256 [16:09<09:57,  1.27s/it]"
     ]
    },
    {
     "name": "stdout",
     "output_type": "stream",
     "text": [
      "{'eval_loss': 1.0460480451583862, 'eval_f1': 0.6229294896686146, 'eval_runtime': 4.2856, 'eval_samples_per_second': 65.102, 'eval_steps_per_second': 8.167, 'epoch': 5.0}\n"
     ]
    },
    {
     "name": "stderr",
     "output_type": "stream",
     "text": [
      "                                                  \n",
      " 75%|███████▌  | 942/1256 [20:05<06:18,  1.21s/it]"
     ]
    },
    {
     "name": "stdout",
     "output_type": "stream",
     "text": [
      "{'eval_loss': 1.0209320783615112, 'eval_f1': 0.6392388465040618, 'eval_runtime': 4.7813, 'eval_samples_per_second': 58.352, 'eval_steps_per_second': 7.32, 'epoch': 6.0}\n"
     ]
    },
    {
     "name": "stderr",
     "output_type": "stream",
     "text": [
      " 80%|███████▉  | 1000/1256 [21:35<06:02,  1.41s/it]"
     ]
    },
    {
     "name": "stdout",
     "output_type": "stream",
     "text": [
      "{'loss': 1.0088, 'grad_norm': 11.8970308303833, 'learning_rate': 4.0764331210191083e-07, 'epoch': 6.37}\n"
     ]
    },
    {
     "name": "stderr",
     "output_type": "stream",
     "text": [
      "                                                   \n",
      " 88%|████████▊ | 1099/1256 [23:56<03:23,  1.29s/it]"
     ]
    },
    {
     "name": "stdout",
     "output_type": "stream",
     "text": [
      "{'eval_loss': 1.009823203086853, 'eval_f1': 0.6582077430105637, 'eval_runtime': 3.495, 'eval_samples_per_second': 79.828, 'eval_steps_per_second': 10.014, 'epoch': 7.0}\n"
     ]
    },
    {
     "name": "stderr",
     "output_type": "stream",
     "text": [
      "                                                   \n",
      "100%|██████████| 1256/1256 [27:27<00:00,  1.01s/it]"
     ]
    },
    {
     "name": "stdout",
     "output_type": "stream",
     "text": [
      "{'eval_loss': 1.0074412822723389, 'eval_f1': 0.655455357535635, 'eval_runtime': 1.2796, 'eval_samples_per_second': 218.041, 'eval_steps_per_second': 27.353, 'epoch': 8.0}\n"
     ]
    },
    {
     "name": "stderr",
     "output_type": "stream",
     "text": [
      "100%|██████████| 1256/1256 [27:29<00:00,  1.31s/it]"
     ]
    },
    {
     "name": "stdout",
     "output_type": "stream",
     "text": [
      "{'train_runtime': 1649.5704, 'train_samples_per_second': 12.168, 'train_steps_per_second': 0.761, 'train_loss': 1.1004562377929688, 'epoch': 8.0}\n"
     ]
    },
    {
     "name": "stderr",
     "output_type": "stream",
     "text": [
      "\n"
     ]
    },
    {
     "data": {
      "text/plain": [
       "TrainOutput(global_step=1256, training_loss=1.1004562377929688, metrics={'train_runtime': 1649.5704, 'train_samples_per_second': 12.168, 'train_steps_per_second': 0.761, 'total_flos': 1320338693246976.0, 'train_loss': 1.1004562377929688, 'epoch': 8.0})"
      ]
     },
     "execution_count": 8,
     "metadata": {},
     "output_type": "execute_result"
    }
   ],
   "source": [
    "# Cell 6: The Controlled Training Run (No Changes)\n",
    "print(f\"\\n{'='*50}\\nSTARTING CONTROLLED RUN: {RUN_NAME}\\n{'='*50}\\n\")\n",
    "tokenizer = AutoTokenizer.from_pretrained(MODEL_CHECKPOINT)\n",
    "def tokenize_fn(batch):\n",
    "    return tokenizer(batch[\"text\"], truncation=True, padding=\"max_length\", max_length=128)\n",
    "tokenized_train_ds = train_ds.map(tokenize_fn, batched=True)\n",
    "tokenized_val_ds = val_ds.map(tokenize_fn, batched=True)\n",
    "tokenized_test_ds = test_ds.map(tokenize_fn, batched=True)\n",
    "model = AutoModelForSequenceClassification.from_pretrained(\n",
    "    MODEL_CHECKPOINT,\n",
    "    num_labels=num_labels,\n",
    "    id2label=id2label,\n",
    "    label2id=label2id,\n",
    "    ignore_mismatched_sizes=True\n",
    ")\n",
    "optimizer_grouped_parameters = [\n",
    "    {\"params\": [p for n, p in model.named_parameters() if \"classifier\" not in n], \"lr\": 2e-6},\n",
    "    {\"params\": [p for n, p in model.named_parameters() if \"classifier\" in n], \"lr\": 3e-5},\n",
    "]\n",
    "optimizer = AdamW(optimizer_grouped_parameters)\n",
    "output_dir = f\"./results/{RUN_NAME}\"\n",
    "training_args = TrainingArguments(output_dir=output_dir, **TRAINING_PARAMS)\n",
    "trainer = CustomTrainer(\n",
    "    model=model,\n",
    "    args=training_args,\n",
    "    train_dataset=tokenized_train_ds,\n",
    "    eval_dataset=tokenized_val_ds,\n",
    "    tokenizer=tokenizer,\n",
    "    compute_metrics=compute_metrics,\n",
    "    callbacks=[EarlyStoppingCallback(early_stopping_patience=3)],\n",
    "    optimizers=(optimizer, None)\n",
    ")\n",
    "trainer.train()"
   ]
  },
  {
   "cell_type": "code",
   "execution_count": 9,
   "id": "6d853cf6",
   "metadata": {},
   "outputs": [
    {
     "name": "stdout",
     "output_type": "stream",
     "text": [
      "\n",
      "--- Evaluating the final model on the sacred test set ---\n"
     ]
    },
    {
     "name": "stderr",
     "output_type": "stream",
     "text": [
      "100%|██████████| 25/25 [00:00<00:00, 28.11it/s]"
     ]
    },
    {
     "name": "stdout",
     "output_type": "stream",
     "text": [
      "\n",
      "\n",
      "============================================================\n",
      "--- CONTROLLED EXPERIMENT COMPLETE ---\n",
      "\n",
      "Final Model: controlled_run_no_augmentation\n",
      "This run did NOT use data augmentation.\n",
      "New Honest Baseline F1 Score on Friends Data: 0.5771\n",
      "\n",
      "Your final, best model is saved in: ./results/controlled_run_no_augmentation\n",
      "============================================================\n"
     ]
    },
    {
     "name": "stderr",
     "output_type": "stream",
     "text": [
      "\n"
     ]
    }
   ],
   "source": [
    "# Cell 7: Final Evaluation (No Changes)\n",
    "print(\"\\n--- Evaluating the final model on the sacred test set ---\")\n",
    "test_results = trainer.evaluate(eval_dataset=tokenized_test_ds)\n",
    "print(f\"\\n\\n{'='*60}\\n--- CONTROLLED EXPERIMENT COMPLETE ---\\n\")\n",
    "print(f\"Final Model: {RUN_NAME}\")\n",
    "print(f\"This run did NOT use data augmentation.\")\n",
    "print(f\"New Honest Baseline F1 Score on Friends Data: {test_results['eval_f1']:.4f}\")\n",
    "print(f\"\\nYour final, best model is saved in: {output_dir}\")\n",
    "print(f\"{'='*60}\")"
   ]
  }
 ],
 "metadata": {
  "kernelspec": {
   "display_name": "nlp-lab-env",
   "language": "python",
   "name": "python3"
  },
  "language_info": {
   "codemirror_mode": {
    "name": "ipython",
    "version": 3
   },
   "file_extension": ".py",
   "mimetype": "text/x-python",
   "name": "python",
   "nbconvert_exporter": "python",
   "pygments_lexer": "ipython3",
   "version": "3.11.0"
  }
 },
 "nbformat": 4,
 "nbformat_minor": 5
}
